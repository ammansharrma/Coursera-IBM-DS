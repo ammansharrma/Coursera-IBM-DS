{
  "metadata": {
    "kernelspec": {
      "name": "python",
      "display_name": "Python (Pyodide)",
      "language": "python"
    },
    "language_info": {
      "codemirror_mode": {
        "name": "python",
        "version": 3
      },
      "file_extension": ".py",
      "mimetype": "text/x-python",
      "name": "python",
      "nbconvert_exporter": "python",
      "pygments_lexer": "ipython3",
      "version": "3.8"
    }
  },
  "nbformat_minor": 4,
  "nbformat": 4,
  "cells": [
    {
      "cell_type": "markdown",
      "source": "# Data Science Tools and Ecosystem\n",
      "metadata": {}
    },
    {
      "cell_type": "markdown",
      "source": "In this notebook, Data Science Tools and Ecosystem are summarized.",
      "metadata": {}
    },
    {
      "cell_type": "markdown",
      "source": "### Some of the popular languages that Data Scientists use are:\n\n1. Python\n2. R\n3. Julia\n4. Scala\n5. Java",
      "metadata": {}
    },
    {
      "cell_type": "markdown",
      "source": "### Some of the commonly used libraries used by Data Scientists include:\n\n\n1. NumPy (numerical computations)\n2. Pandas (data manipulation)\n3. Matplotlib (data visualization)\n4. Scikit-learn (machine learning)\n5. TensorFlow/PyTorch (deep learning)",
      "metadata": {}
    },
    {
      "cell_type": "markdown",
      "source": "### Data Science Tools\n|Sr. No| Tool        | Description                                     |\n|------|-------------|-------------------------------------------------|\n|1.     | JupyterLite | Interactive web-based environment for Jupyter notebooks |\n|2.     | pandas      | Powerful data analysis and manipulation library     |\n|3.     | Matplotlib  | Versatile library for creating static, animated, and interactive visualizations |\n",
      "metadata": {
        "jp-MarkdownHeadingCollapsed": true
      }
    },
    {
      "cell_type": "markdown",
      "source": "### Below are a few examples of evaluating arithmetic expressions in Python",
      "metadata": {}
    },
    {
      "cell_type": "code",
      "source": "#This a simple arithmetic expression to mutiply then add integers\n(3*4)+5",
      "metadata": {
        "trusted": true
      },
      "outputs": [
        {
          "execution_count": 1,
          "output_type": "execute_result",
          "data": {
            "text/plain": "17"
          },
          "metadata": {}
        }
      ],
      "execution_count": 1
    },
    {
      "cell_type": "code",
      "source": "#This will convert 200 minutes to hours by diving by 60\nminutes = 200\nhours = minutes / 60\nprint(f\"{minutes} minutes is equal to {hours:.2f} hours\")\n",
      "metadata": {
        "trusted": true
      },
      "outputs": [
        {
          "name": "stdout",
          "text": "200 minutes is equal to 3.33 hours\n",
          "output_type": "stream"
        }
      ],
      "execution_count": 3
    },
    {
      "cell_type": "markdown",
      "source": "### **Objectives**\n- Exercise 2 - Create a markdown cell with the title of the notebook. (1 pt)\n\n- Exercise 3 - Create a markdown cell for an introduction. (1 pt)\n\n- Exercise 4 - Create a markdown cell to list data science languages. (3 pts)\n\n- Exercise 5 - Create a markdown cell to list data science libraries. (3 pts)\n\n- Exercise 6 - Create a markdown cell with a table of Data Science tools. (3 pts)\n\n- Exercise 7 - Create a markdown cell introducing arithmetic expression examples. (1 pt)\n\n- Exercise 8 - Create a code cell to multiply and add numbers. (2 pts)\n\n- Exercise 9 - Create a code cell to convert minutes to hours. (2 pts)\n\n- Exercise 10 -Insert a markdown cell to list Objectives. (3 pts)\n\n- Exercise 11 - Create a markdown cell to indicate the Author’s name. (2 pts)\n\n- Exercise 12 - Share your notebook through GitHub (3 pts)\n\n- Exercise 13 - Take a screenshot of the first page of the notebook. (1 pt)",
      "metadata": {}
    },
    {
      "cell_type": "markdown",
      "source": "## Author : Aamaan Ssanjay Sharrma",
      "metadata": {}
    },
    {
      "cell_type": "code",
      "source": "",
      "metadata": {
        "trusted": true
      },
      "outputs": [],
      "execution_count": null
    }
  ]
}