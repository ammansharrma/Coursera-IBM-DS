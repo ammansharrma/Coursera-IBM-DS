{
  "metadata": {
    "kernelspec": {
      "name": "python",
      "display_name": "Python (Pyodide)",
      "language": "python"
    },
    "language_info": {
      "codemirror_mode": {
        "name": "python",
        "version": 3
      },
      "file_extension": ".py",
      "mimetype": "text/x-python",
      "name": "python",
      "nbconvert_exporter": "python",
      "pygments_lexer": "ipython3",
      "version": "3.8"
    }
  },
  "nbformat_minor": 4,
  "nbformat": 4,
  "cells": [
    {
      "cell_type": "markdown",
      "source": "# Hello",
      "metadata": {}
    },
    {
      "cell_type": "markdown",
      "source": "This is introduction",
      "metadata": {}
    },
    {
      "cell_type": "markdown",
      "source": "### Data Science Prograaming Languages\n\nPython\nR\nJulia\nScala\nJava",
      "metadata": {}
    },
    {
      "cell_type": "markdown",
      "source": "### Data Science Tools\n\nNumPy (numerical computations)\nPandas (data manipulation)\nMatplotlib (data visualization)\nScikit-learn (machine learning)\nTensorFlow/PyTorch (deep learning)",
      "metadata": {}
    },
    {
      "cell_type": "markdown",
      "source": "### Description\n| Tool        | Description                                     |\n|-------------|-------------------------------------------------|\n| JupyterLite | Interactive web-based environment for Jupyter notebooks |\n| pandas      | Powerful data analysis and manipulation library     |\n| Matplotlib  | Versatile library for creating static, animated, and interactive visualizations |\n",
      "metadata": {}
    },
    {
      "cell_type": "markdown",
      "source": "### Arthmetic Operations",
      "metadata": {}
    },
    {
      "cell_type": "code",
      "source": "#Multiplication and addition\n(5*3)+2",
      "metadata": {
        "trusted": true
      },
      "outputs": [
        {
          "execution_count": 2,
          "output_type": "execute_result",
          "data": {
            "text/plain": "17"
          },
          "metadata": {}
        }
      ],
      "execution_count": 2
    },
    {
      "cell_type": "code",
      "source": "minutes = 60\nhours = minutes / 60\nprint(f\"{minutes} minutes is equal to {hours:.2f} hours\")\n",
      "metadata": {
        "trusted": true
      },
      "outputs": [
        {
          "name": "stdout",
          "text": "60 minutes is equal to 1.00 hours\n",
          "output_type": "stream"
        }
      ],
      "execution_count": 3
    },
    {
      "cell_type": "markdown",
      "source": "### Objectives\nExercise 2 - Create a markdown cell with the title of the notebook. (1 pt)\n\nExercise 3 - Create a markdown cell for an introduction. (1 pt)\n\nExercise 4 - Create a markdown cell to list data science languages. (3 pts)\n\nExercise 5 - Create a markdown cell to list data science libraries. (3 pts)\n\nExercise 6 - Create a markdown cell with a table of Data Science tools. (3 pts)\n\nExercise 7 - Create a markdown cell introducing arithmetic expression examples. (1 pt)\n\nExercise 8 - Create a code cell to multiply and add numbers. (2 pts)\n\nExercise 9 - Create a code cell to convert minutes to hours. (2 pts)\n\nExercise 10 -Insert a markdown cell to list Objectives. (3 pts)\n\nExercise 11 - Create a markdown cell to indicate the Author’s name. (2 pts)\n\nExercise 12 - Share your notebook through GitHub (3 pts)\n\nExercise 13 - Take a screenshot of the first page of the notebook. (1 pt)",
      "metadata": {}
    },
    {
      "cell_type": "markdown",
      "source": "### Author : Aamaan Ssanjay Sharrma",
      "metadata": {}
    },
    {
      "cell_type": "code",
      "source": "",
      "metadata": {
        "trusted": true
      },
      "outputs": [],
      "execution_count": null
    }
  ]
}